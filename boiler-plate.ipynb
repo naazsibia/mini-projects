{
 "cells": [
  {
   "cell_type": "code",
   "execution_count": null,
   "metadata": {},
   "outputs": [],
   "source": [
    "import pandas as pd # this is how we usually import pandas -- anything else is cursed."
   ]
  },
  {
   "cell_type": "code",
   "execution_count": null,
   "metadata": {},
   "outputs": [],
   "source": [
    "df = pd.read_csv('FILENAME.csv') # how you read a CSV file\n",
    "pd.to_csv('OUTFILE.csv') # how you write to a CSV file (it'll create it if it doesn't exist)\n",
    "\n",
    "# Applying a function to a column:\n",
    "def some_function(value): # argument -- the type of column could be string/int, return -- what you want it to be\n",
    "    return value\n",
    "\n",
    "column = 'some_column'\n",
    "df[column] = df[column].apply(some_function) # apply returns a new series -- you'll need to save it\n",
    "\n",
    "# some quick column actions\n",
    "df['TOTAL'] = df['SOME COLUMN'] + df['SOME OTHER COLUMN'] # this could be more complex\n",
    "\n",
    "\n",
    "# Looping over rows though you shouldn't need to do this\n",
    "for _, row in df.iterrows():\n",
    "    user = row['USER'] # an example"
   ]
  },
  {
   "cell_type": "markdown",
   "metadata": {},
   "source": [
    "## Dealing with multiple dataframes"
   ]
  },
  {
   "cell_type": "code",
   "execution_count": null,
   "metadata": {},
   "outputs": [],
   "source": [
    "df2 = pd.read_csv(\"OTHER_FILENAME.csv\")\n",
    "# merging the files\n"
   ]
  }
 ],
 "metadata": {
  "language_info": {
   "name": "python"
  },
  "orig_nbformat": 4
 },
 "nbformat": 4,
 "nbformat_minor": 2
}
